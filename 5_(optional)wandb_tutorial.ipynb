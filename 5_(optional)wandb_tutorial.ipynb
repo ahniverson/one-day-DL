{
  "cells": [
    {
      "cell_type": "markdown",
      "metadata": {
        "id": "view-in-github",
        "colab_type": "text"
      },
      "source": [
        "<a href=\"https://colab.research.google.com/github/hukim1112/one-day-DL/blob/main/5_(optional)wandb_tutorial.ipynb\" target=\"_parent\"><img src=\"https://colab.research.google.com/assets/colab-badge.svg\" alt=\"Open In Colab\"/></a>"
      ]
    },
    {
      "cell_type": "markdown",
      "source": [
        "### 1. WandB 임포트\n",
        "\n",
        "pip install wandb로 설치 후 import"
      ],
      "metadata": {
        "id": "5P4DuPvEHp4o"
      }
    },
    {
      "cell_type": "code",
      "execution_count": null,
      "metadata": {
        "id": "50JFJz1uHTGJ"
      },
      "outputs": [],
      "source": [
        "import wandb"
      ]
    },
    {
      "cell_type": "markdown",
      "source": [
        "### 2. WandB 초기화\n",
        "\n",
        "프로젝트를 시작할 때 wandb.init()을 사용해 프로젝트를 초기화합니다."
      ],
      "metadata": {
        "id": "Hba6rEY-HkZz"
      }
    },
    {
      "cell_type": "code",
      "execution_count": null,
      "metadata": {
        "id": "8t-yQ17XHTGL"
      },
      "outputs": [],
      "source": [
        "\n",
        "# 프로젝트 초기화\n",
        "wandb.init(\n",
        "    project=\"my_wandb_tutorial\", #프로젝트 명칭\n",
        "    name=\"add_logs+tables+images\", #wandb에서는 프로젝트 내 실험들을 run이라고 지칭합니다.\n",
        "    config={\n",
        "        \"learning_rate\": 0.001,\n",
        "        \"batch_size\": 32,\n",
        "        \"epochs\": 5,\n",
        "    }\n",
        ")"
      ]
    },
    {
      "cell_type": "code",
      "source": [
        "wandb.config"
      ],
      "metadata": {
        "id": "T9GDndKNOnH7"
      },
      "execution_count": null,
      "outputs": []
    },
    {
      "cell_type": "code",
      "source": [
        "# wandb.config 값 사용하기\n",
        "learning_rate = wandb.config.learning_rate  # 또는 wandb.config[\"learning_rate\"]\n",
        "batch_size = wandb.config.batch_size\n",
        "epochs = wandb.config.epochs\n",
        "\n",
        "print(f\"Learning rate: {learning_rate}, Batch size: {batch_size}, Epochs: {epochs}\")\n"
      ],
      "metadata": {
        "id": "0ogqpOFoOOX5"
      },
      "execution_count": null,
      "outputs": []
    },
    {
      "cell_type": "markdown",
      "source": [
        "### 3. 학습 중 로그 저장\n",
        "\n",
        "학습 중에 손실 값, 정확도와 같은 로그를 저장할 수 있습니다."
      ],
      "metadata": {
        "id": "aX4MgX3zHmo-"
      }
    },
    {
      "cell_type": "code",
      "execution_count": null,
      "metadata": {
        "id": "yHXx-KZUHTGL"
      },
      "outputs": [],
      "source": [
        "import random\n",
        "\n",
        "# 가짜 학습 예시\n",
        "epochs = wandb.config.epochs\n",
        "for epoch in range(epochs):\n",
        "    loss = random.random()  # 예시로 랜덤 값 사용\n",
        "    accuracy = random.random()\n",
        "\n",
        "    # 로그 저장\n",
        "    wandb.log({\"epoch\": epoch, \"random_loss\": loss, \"random_accuracy\": accuracy})\n"
      ]
    },
    {
      "cell_type": "markdown",
      "source": [
        "### 4. WandB 테이블 생성 및 저장\n",
        "\n",
        "테이블을 사용하여 데이터셋, 예측 결과 등을 시각화할 수 있습니다."
      ],
      "metadata": {
        "id": "5j79UeGcHygk"
      }
    },
    {
      "cell_type": "code",
      "execution_count": null,
      "metadata": {
        "id": "oJwpAsSEHTGM"
      },
      "outputs": [],
      "source": [
        "# WandB 테이블 생성\n",
        "columns = [\"image_id\", \"label\", \"prediction\"]\n",
        "data = [\n",
        "    [\"img_001\", \"cat\", \"cat\"],\n",
        "    [\"img_002\", \"dog\", \"cat\"],  # 예측 오류\n",
        "    [\"img_003\", \"bird\", \"bird\"],\n",
        "]\n",
        "\n",
        "# 테이블 생성 및 저장\n",
        "table = wandb.Table(columns=columns, data=data)\n",
        "wandb.log({\"prediction_table\": table})\n"
      ]
    },
    {
      "cell_type": "markdown",
      "source": [
        "### 5. 이미지를 저장\n",
        "\n",
        "이미지를 저장하여 시각화에 활용할 수 있습니다."
      ],
      "metadata": {
        "id": "sml8bwL0H0PU"
      }
    },
    {
      "cell_type": "code",
      "execution_count": null,
      "metadata": {
        "id": "9BgteH58HTGM"
      },
      "outputs": [],
      "source": [
        "from PIL import Image\n",
        "import numpy as np\n",
        "\n",
        "# 랜덤 이미지 생성\n",
        "image_data = np.random.randint(0, 255, (100, 100, 3), dtype=np.uint8)\n",
        "image = Image.fromarray(image_data)\n",
        "\n",
        "# 이미지를 WandB에 저장\n",
        "wandb.log({\"random_image\": wandb.Image(image, caption=\"Random Example Image\")})\n"
      ]
    },
    {
      "cell_type": "markdown",
      "source": [
        "### 6. 학습 로그 저장\n",
        "\n",
        "wandb를 활용하여 학습 로그를 저장하는 간단한 PyTorch 예제 코드입니다. 이 코드는 MNIST 데이터셋을 사용하여 간단한 신경망을 학습하면서 wandb에 손실(loss)과 정확도(accuracy)를 기록합니다."
      ],
      "metadata": {
        "id": "KDs5DBiBNh1L"
      }
    },
    {
      "cell_type": "code",
      "source": [
        "import torch\n",
        "import torch.nn as nn\n",
        "import torch.optim as optim\n",
        "import torch.nn.functional as F\n",
        "import torchvision\n",
        "import torchvision.transforms as transforms\n",
        "\n",
        "# 데이터셋 로딩\n",
        "transform = transforms.Compose([transforms.ToTensor(), transforms.Normalize((0.5,), (0.5,))])\n",
        "trainset = torchvision.datasets.MNIST(root='./data', train=True, download=True, transform=transform)\n",
        "trainloader = torch.utils.data.DataLoader(trainset, batch_size=wandb.config.batch_size, shuffle=True)\n",
        "\n",
        "# 간단한 신경망 모델 정의\n",
        "class SimpleNet(nn.Module):\n",
        "    def __init__(self):\n",
        "        super(SimpleNet, self).__init__()\n",
        "        self.fc1 = nn.Linear(28*28, 128)\n",
        "        self.fc2 = nn.Linear(128, 10)\n",
        "\n",
        "    def forward(self, x):\n",
        "        x = x.view(-1, 28*28)\n",
        "        x = F.relu(self.fc1(x))\n",
        "        x = self.fc2(x)\n",
        "        return x\n",
        "\n",
        "# 모델 및 학습 설정\n",
        "device = torch.device(\"cuda\" if torch.cuda.is_available() else \"cpu\")\n",
        "model = SimpleNet().to(device)\n",
        "criterion = nn.CrossEntropyLoss()\n",
        "optimizer = optim.Adam(model.parameters(), lr=wandb.config.learning_rate)\n",
        "\n",
        "# 학습 루프\n",
        "for epoch in range(wandb.config.epochs):\n",
        "    running_loss = 0.0\n",
        "    correct = 0\n",
        "    total = 0\n",
        "    for i, (inputs, labels) in enumerate(trainloader):\n",
        "        inputs, labels = inputs.to(device), labels.to(device)\n",
        "\n",
        "        optimizer.zero_grad()\n",
        "        outputs = model(inputs)\n",
        "        loss = criterion(outputs, labels)\n",
        "        loss.backward()\n",
        "        optimizer.step()\n",
        "\n",
        "        running_loss += loss.item()\n",
        "        _, predicted = torch.max(outputs, 1)\n",
        "        total += labels.size(0)\n",
        "        correct += (predicted == labels).sum().item()\n",
        "\n",
        "        # wandb 로그 저장\n",
        "        if i % 100 == 0:  # 100배치마다 로깅\n",
        "            wandb.log({\"loss\": running_loss / (i+1), \"accuracy\": correct / total})\n",
        "\n",
        "    print(f\"Epoch {epoch+1}, Loss: {running_loss / len(trainloader):.4f}, Accuracy: {correct / total:.4f}\")\n",
        "    wandb.log({\"epoch_loss\": running_loss / len(trainloader), \"epoch_accuracy\": correct / total})"
      ],
      "metadata": {
        "id": "1Tm84ARsNc1U"
      },
      "execution_count": null,
      "outputs": []
    },
    {
      "cell_type": "markdown",
      "source": [
        "### 6. WandB 종료\n",
        "\n",
        "모든 작업이 끝나면 wandb.finish()로 WandB 세션을 종료합니다."
      ],
      "metadata": {
        "id": "NWvecpcyH3x8"
      }
    },
    {
      "cell_type": "code",
      "execution_count": null,
      "metadata": {
        "id": "0wWKFyYlHTGM"
      },
      "outputs": [],
      "source": [
        "# WandB 세션 종료\n",
        "wandb.finish()\n"
      ]
    },
    {
      "cell_type": "code",
      "execution_count": null,
      "metadata": {
        "id": "ncsL4d2jHTGM"
      },
      "outputs": [],
      "source": []
    }
  ],
  "metadata": {
    "kernelspec": {
      "display_name": "Python common",
      "language": "python",
      "name": "common"
    },
    "language_info": {
      "codemirror_mode": {
        "name": "ipython",
        "version": 3
      },
      "file_extension": ".py",
      "mimetype": "text/x-python",
      "name": "python",
      "nbconvert_exporter": "python",
      "pygments_lexer": "ipython3",
      "version": "3.10.12"
    },
    "colab": {
      "provenance": [],
      "include_colab_link": true
    }
  },
  "nbformat": 4,
  "nbformat_minor": 0
}