{
  "nbformat": 4,
  "nbformat_minor": 0,
  "metadata": {
    "colab": {
      "provenance": [],
      "include_colab_link": true
    },
    "kernelspec": {
      "display_name": "Python 3",
      "language": "python",
      "name": "python3"
    },
    "language_info": {
      "codemirror_mode": {
        "name": "ipython",
        "version": 3
      },
      "file_extension": ".py",
      "mimetype": "text/x-python",
      "name": "python",
      "nbconvert_exporter": "python",
      "pygments_lexer": "ipython3",
      "version": "3.6.9"
    },
    "gpuClass": "standard"
  },
  "cells": [
    {
      "cell_type": "markdown",
      "metadata": {
        "id": "view-in-github",
        "colab_type": "text"
      },
      "source": [
        "<a href=\"https://colab.research.google.com/github/hukim1112/one-day-DL/blob/main/(pytorch)flower_classification.ipynb\" target=\"_parent\"><img src=\"https://colab.research.google.com/assets/colab-badge.svg\" alt=\"Open In Colab\"/></a>"
      ]
    },
    {
      "cell_type": "markdown",
      "metadata": {
        "id": "hoQQiZDB6URn"
      },
      "source": [
        "## 설정"
      ]
    },
    {
      "cell_type": "code",
      "metadata": {
        "id": "3vhAMaIOBIee"
      },
      "source": [
        "import numpy as np\n",
        "import os\n",
        "import PIL\n",
        "import PIL.Image\n",
        "import tensorflow as tf\n",
        "\n",
        "from matplotlib import pyplot as plt"
      ],
      "execution_count": null,
      "outputs": []
    },
    {
      "cell_type": "code",
      "metadata": {
        "id": "Qnp9Z2sT5dWj"
      },
      "source": [
        "print(tf.__version__)"
      ],
      "execution_count": null,
      "outputs": []
    },
    {
      "cell_type": "markdown",
      "metadata": {
        "id": "wO0InzL66URu"
      },
      "source": [
        "### 꽃 데이터세트 다운로드하기\n",
        "\n",
        "이 튜토리얼에서는 수천 장의 꽃 사진 데이터세트를 사용합니다. 꽃 데이터세트에는 클래스당 하나씩 5개의 하위 디렉토리가 있습니다.\n",
        "\n",
        "```\n",
        "flowers_photos/\n",
        "  daisy/\n",
        "  dandelion/\n",
        "  roses/\n",
        "  sunflowers/\n",
        "  tulips/\n",
        "```"
      ]
    },
    {
      "cell_type": "markdown",
      "metadata": {
        "id": "Ju2yXtdV5YaT"
      },
      "source": [
        "참고: 모든 이미지에는 CC-BY 라이선스가 있으며 크리에이터는 LICENSE.txt 파일에 나열됩니다."
      ]
    },
    {
      "cell_type": "code",
      "metadata": {
        "id": "rN-Pc6Zd6awg"
      },
      "source": [
        "import pathlib\n",
        "dataset_url = \"https://storage.googleapis.com/download.tensorflow.org/example_images/flower_photos.tgz\"\n",
        "data_dir = tf.keras.utils.get_file(origin=dataset_url,\n",
        "                                   fname='flower_photos',\n",
        "                                   untar=True)\n",
        "data_dir = pathlib.Path(data_dir)"
      ],
      "execution_count": null,
      "outputs": []
    },
    {
      "cell_type": "markdown",
      "metadata": {
        "id": "rFkFK74oO--g"
      },
      "source": [
        "다운로드한 후 (218MB), 이제 꽃 사진의 사본을 사용할 수 있습니다. 총 3670개의 이미지가 있습니다."
      ]
    },
    {
      "cell_type": "code",
      "metadata": {
        "id": "QhewYCxhXQBX"
      },
      "source": [
        "image_count = len(list(data_dir.glob('*/*.jpg')))\n",
        "print(image_count)"
      ],
      "execution_count": null,
      "outputs": []
    },
    {
      "cell_type": "code",
      "metadata": {
        "id": "sXvLTtgjEqop"
      },
      "source": [
        "# 저장된 경로\n",
        "data_dir"
      ],
      "execution_count": null,
      "outputs": []
    },
    {
      "cell_type": "code",
      "metadata": {
        "id": "pshwVz_PEpIx"
      },
      "source": [
        "# 리눅스 명령어를 통해 content 폴더 아래로 복사\n",
        "!cp -r /root/.keras/datasets/flower_photos /content/"
      ],
      "execution_count": null,
      "outputs": []
    },
    {
      "cell_type": "markdown",
      "metadata": {
        "id": "ZUFusk44d9GW"
      },
      "source": [
        "각 디렉토리에는 해당 유형의 꽃 이미지가 포함되어 있습니다."
      ]
    },
    {
      "cell_type": "code",
      "metadata": {
        "id": "crs7ZjEp60Ot"
      },
      "source": [
        "roses = list(data_dir.glob('roses/*'))\n",
        "PIL.Image.open(str(roses[0]))"
      ],
      "execution_count": null,
      "outputs": []
    },
    {
      "cell_type": "code",
      "metadata": {
        "id": "oV9PtjdKKWyI"
      },
      "source": [
        "sunflowers = list(data_dir.glob('sunflowers/*'))\n",
        "PIL.Image.open(str(sunflowers[0]))"
      ],
      "execution_count": null,
      "outputs": []
    },
    {
      "cell_type": "code",
      "metadata": {
        "id": "c3EddMWdDMLR"
      },
      "source": [],
      "execution_count": null,
      "outputs": []
    },
    {
      "cell_type": "markdown",
      "source": [
        "## pytorch 데이터 파이프라인\n",
        "\n",
        "미션 : 아래 튜토리얼을 참고해 플라워 데이터를 위한 커스텀 데이터셋 클래스를 작성해보세요.\n",
        "\n",
        "https://tutorials.pytorch.kr/beginner/basics/data_tutorial.html#id9"
      ],
      "metadata": {
        "id": "WCWhKZnO_2Il"
      }
    },
    {
      "cell_type": "markdown",
      "source": [
        "### 플라워 데이터셋 클래스 정의"
      ],
      "metadata": {
        "id": "1vuUpLiWe54h"
      }
    },
    {
      "cell_type": "code",
      "source": [
        "import os\n",
        "from os.path import join\n",
        "def get_subdir_files(root):\n",
        "  categories = [sub for sub in os.listdir(root) if os.path.isdir(join(root, sub))]\n",
        "  subs = [ join(root, sub) for sub in os.listdir(root) if os.path.isdir(join(root, sub))]\n",
        "  files = []\n",
        "  for sub in subs:\n",
        "    sub_files = [ join(sub, name) for name in os.listdir(sub)]\n",
        "    files += sub_files\n",
        "  return files, categories"
      ],
      "metadata": {
        "id": "yYonjb3mp_ZZ"
      },
      "execution_count": null,
      "outputs": []
    },
    {
      "cell_type": "code",
      "source": [
        "filelist, categories = get_subdir_files(\"/content/flower_photos\")\n",
        "print(filelist[:5])\n",
        "print(categories)"
      ],
      "metadata": {
        "id": "GMB7szJMqCAh"
      },
      "execution_count": null,
      "outputs": []
    },
    {
      "cell_type": "code",
      "source": [
        "from torch.utils.data import Dataset\n",
        "from torchvision.io import read_image\n",
        "from matplotlib import pyplot as plt\n",
        "class FlowerDataset(Dataset):\n",
        "    def __init__(self, filelist, transform=None, target_transform=None):\n",
        "        self.filelist = filelist\n",
        "        self.transform = transform\n",
        "        self.target_transform = target_transform\n",
        "\n",
        "    def __len__(self):\n",
        "        return len(self.filelist)\n",
        "\n",
        "    def __getitem__(self, idx):\n",
        "        img_path = self.filelist[idx]\n",
        "        image = read_image(img_path)\n",
        "        label = img_path.split('/')[-2]\n",
        "        if self.transform:\n",
        "          image = self.transform(image)\n",
        "        if self.target_transform:\n",
        "          label = self.target_transform(label)\n",
        "        return image, label"
      ],
      "metadata": {
        "id": "mqHtdl_7cfR_"
      },
      "execution_count": null,
      "outputs": []
    },
    {
      "cell_type": "code",
      "source": [
        "flower_dataset = FlowerDataset(filelist)\n",
        "x,y = next(iter(flower_dataset))\n",
        "\n",
        "print(categories)\n",
        "plt.title(f\"class : {y}\")\n",
        "plt.imshow(x.permute(1,2,0))"
      ],
      "metadata": {
        "id": "_xKS-bhwhkA3"
      },
      "execution_count": null,
      "outputs": []
    },
    {
      "cell_type": "markdown",
      "source": [
        "### Dataset split"
      ],
      "metadata": {
        "id": "iSSyMtoVlqk4"
      }
    },
    {
      "cell_type": "code",
      "source": [
        "import random\n",
        "random.shuffle(filelist)\n",
        "dataset_size = len(filelist)\n",
        "\n",
        "train_size = int(dataset_size * 0.8)\n",
        "validation_size = int(dataset_size * 0.1)\n",
        "test_size = dataset_size - train_size - validation_size"
      ],
      "metadata": {
        "id": "5xMVj7C2loTa"
      },
      "execution_count": null,
      "outputs": []
    },
    {
      "cell_type": "markdown",
      "source": [
        "### 데이터전처리 및 증강"
      ],
      "metadata": {
        "id": "ZrRssAlcovXh"
      }
    },
    {
      "cell_type": "code",
      "source": [
        "from torchvision import transforms"
      ],
      "metadata": {
        "id": "SXXUW_CJqbbq"
      },
      "execution_count": null,
      "outputs": []
    },
    {
      "cell_type": "code",
      "source": [
        "data_transforms = {\n",
        "    'train': transforms.Compose([\n",
        "        transforms.ToPILImage(),\n",
        "        transforms.Resize((128, 128)),\n",
        "        transforms.ColorJitter(brightness=0.05, saturation=0.05, hue=0.05, contrast=0.05),\n",
        "        transforms.RandomHorizontalFlip(),\n",
        "        transforms.ToTensor()]),\n",
        "    'test': transforms.Compose([\n",
        "        transforms.ToPILImage(),\n",
        "        transforms.Resize((128, 128)),\n",
        "        transforms.ToTensor()]),\n",
        "}\n",
        "\n",
        "def target_transform(label):\n",
        "  return categories.index(label)\n",
        "\n",
        "train_dataset = FlowerDataset(filelist[:train_size], transform=data_transforms['train'], target_transform=target_transform)\n",
        "validation_dataset = FlowerDataset(filelist[train_size:train_size+validation_size], transform=data_transforms['test'], target_transform=target_transform)\n",
        "test_dataset = FlowerDataset(filelist[train_size+validation_size:], transform=data_transforms['test'], target_transform=target_transform)"
      ],
      "metadata": {
        "id": "Pjgr3C47oxYR"
      },
      "execution_count": null,
      "outputs": []
    },
    {
      "cell_type": "code",
      "source": [
        "print(len(train_dataset), len(validation_dataset), len(test_dataset))"
      ],
      "metadata": {
        "id": "N3XV2hYjloWM"
      },
      "execution_count": null,
      "outputs": []
    },
    {
      "cell_type": "code",
      "source": [
        "x,y = next(iter(train_dataset))\n",
        "\n",
        "plt.title(f\"class : {y}\")\n",
        "plt.imshow(x.permute(1,2,0))"
      ],
      "metadata": {
        "id": "B6_Ixp_7jSbx"
      },
      "execution_count": null,
      "outputs": []
    },
    {
      "cell_type": "markdown",
      "source": [
        "### 데이터 로더"
      ],
      "metadata": {
        "id": "p3ALyhsancJa"
      }
    },
    {
      "cell_type": "code",
      "source": [
        "from torch.utils.data import DataLoader\n",
        "\n",
        "train_dataloader = DataLoader(train_dataset, batch_size=64, shuffle=True)\n",
        "validation_dataloader = DataLoader(validation_dataset, batch_size=64, shuffle=False)\n",
        "test_dataloader = DataLoader(test_dataset, batch_size=64, shuffle=False)"
      ],
      "metadata": {
        "id": "HHaM8kDDdoOS"
      },
      "execution_count": null,
      "outputs": []
    },
    {
      "cell_type": "code",
      "source": [
        "# 이미지와 정답(label)을 표시합니다.\n",
        "train_features, train_labels = next(iter(train_dataloader))\n",
        "print(f\"Feature batch shape: {train_features.size()}\")\n",
        "print(f\"Labels batch shape: {train_labels}\")"
      ],
      "metadata": {
        "id": "941t9SQtgHGJ"
      },
      "execution_count": null,
      "outputs": []
    },
    {
      "cell_type": "markdown",
      "source": [
        "## pytorch 모델 구현\n",
        "\n",
        "학습하고자 하는 CNN 모델을 구축해봅시다."
      ],
      "metadata": {
        "id": "RUzcQl6IMdmY"
      }
    },
    {
      "cell_type": "code",
      "source": [
        "# write yout codes"
      ],
      "metadata": {
        "id": "pvjErvp2_1l8"
      },
      "execution_count": null,
      "outputs": []
    },
    {
      "cell_type": "markdown",
      "source": [
        "## pytorch 학습\n"
      ],
      "metadata": {
        "id": "BZERbuf1MhCm"
      }
    },
    {
      "cell_type": "code",
      "source": [
        "# write yout codes"
      ],
      "metadata": {
        "id": "UxATT2Uf_1oJ"
      },
      "execution_count": null,
      "outputs": []
    }
  ]
}