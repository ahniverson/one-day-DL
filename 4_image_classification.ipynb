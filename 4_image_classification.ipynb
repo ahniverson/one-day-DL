{
  "cells": [
    {
      "cell_type": "markdown",
      "metadata": {
        "id": "view-in-github",
        "colab_type": "text"
      },
      "source": [
        "<a href=\"https://colab.research.google.com/github/hukim1112/one-day-DL/blob/main/4_image_classification.ipynb\" target=\"_parent\"><img src=\"https://colab.research.google.com/assets/colab-badge.svg\" alt=\"Open In Colab\"/></a>"
      ]
    },
    {
      "cell_type": "code",
      "execution_count": null,
      "id": "87fbca16",
      "metadata": {
        "id": "87fbca16"
      },
      "outputs": [],
      "source": [
        "import os, sys\n",
        "import torch\n",
        "from torch.utils.data import Dataset\n",
        "from torchvision import datasets\n",
        "from torchvision.transforms import ToTensor\n",
        "import matplotlib.pyplot as plt"
      ]
    },
    {
      "cell_type": "markdown",
      "id": "d66a8d0b",
      "metadata": {
        "id": "d66a8d0b"
      },
      "source": [
        "# 1. cifar10 데이터셋 준비\n",
        "\n",
        "pytorch의 데이터셋 객체는 \\_\\_getitem\\_\\_ 메서드를 갖으며, 내부적으로 인덱스로 데이터와 레이블을 리턴한다.\n",
        "\n",
        "pytorch에서는 다양한 데이터셋 클래스를 구현해두어서 아래와 같이 쉽게 가져와 사용할 수 있다.\n",
        "\n",
        "만약 내가 소유한 데이터셋를 가져오고 싶을 때는 파이토치 데이터셋 클래스를 상속 받아 내 데이터에 맞게 구현해주면 된다. [Custom 데이터셋 클래스 구현](https://pytorch.org/tutorials/beginner/basics/data_tutorial.html#creating-a-custom-dataset-for-your-files)"
      ]
    },
    {
      "cell_type": "code",
      "execution_count": null,
      "id": "14800be6",
      "metadata": {
        "id": "14800be6"
      },
      "outputs": [],
      "source": [
        "training_data = datasets.CIFAR10(\n",
        "    root=\"data\",\n",
        "    train=True,\n",
        "    download=True,\n",
        "    transform=ToTensor()\n",
        ")\n",
        "\n",
        "val_data = datasets.CIFAR10(\n",
        "    root=\"data\",\n",
        "    train=False,\n",
        "    download=True,\n",
        "    transform=ToTensor()\n",
        ")"
      ]
    },
    {
      "cell_type": "code",
      "execution_count": null,
      "id": "3beb7a16",
      "metadata": {
        "id": "3beb7a16"
      },
      "outputs": [],
      "source": [
        "labels_map = {\n",
        "    0: \"airplane\",\n",
        "    1: \"automobile\",\n",
        "    2: \"bird\",\n",
        "    3: \"cat\",\n",
        "    4: \"deer\",\n",
        "    5: \"dog\",\n",
        "    6: \"frog\",\n",
        "    7: \"horse\",\n",
        "    8: \"ship\",\n",
        "    9: \"truck\",\n",
        "}\n",
        "figure = plt.figure(figsize=(8, 8))\n",
        "cols, rows = 3, 3\n",
        "for i in range(1, cols * rows + 1):\n",
        "    sample_idx = torch.randint(len(training_data), size=(1,)).item()\n",
        "    img, label = training_data[sample_idx]\n",
        "    figure.add_subplot(rows, cols, i)\n",
        "    plt.title(labels_map[label])\n",
        "    plt.axis(\"off\")\n",
        "    plt.imshow(img.permute([1,2,0])) #[C,H,W] => [H,W,C], axis change\n",
        "plt.show()"
      ]
    },
    {
      "cell_type": "markdown",
      "source": [
        "데이터셋 객체는 한 번에 하나의 데이터와 정답을 가져오지만, 학습을 위해 미니배치(minibatch)로 데이터를 가져올 필요가 있다. 또한 과적합을 줄이기 위해 매 epoch마다 데이터의 순서를 섞어(shuffle)주어야 한다.\n",
        "\n",
        "이를 위해 파이토치는 [DataLoader](https://pytorch.org/tutorials/beginner/basics/data_tutorial.html#preparing-your-data-for-training-with-dataloaders)를 제공한다."
      ],
      "metadata": {
        "id": "MaZ4zWXMgpbF"
      },
      "id": "MaZ4zWXMgpbF"
    },
    {
      "cell_type": "code",
      "execution_count": null,
      "id": "5079a513",
      "metadata": {
        "id": "5079a513"
      },
      "outputs": [],
      "source": [
        "from torch.utils.data import DataLoader\n",
        "\n",
        "train_dataloader = DataLoader(training_data, batch_size=64, shuffle=True)\n",
        "val_dataloader = DataLoader(val_data, batch_size=64, shuffle=True)"
      ]
    },
    {
      "cell_type": "code",
      "execution_count": null,
      "id": "785ed8c6",
      "metadata": {
        "id": "785ed8c6"
      },
      "outputs": [],
      "source": [
        "# 이미지와 정답(label)을 표시합니다.\n",
        "train_features, train_labels = next(iter(train_dataloader))\n",
        "print(f\"Feature batch shape: {train_features.size()}\")\n",
        "print(f\"Labels batch shape: {train_labels.size()}\")\n",
        "img = train_features[0].squeeze()\n",
        "label = train_labels[0]\n",
        "plt.imshow(img.permute([1,2,0]), cmap=\"gray\")\n",
        "plt.show()\n",
        "print(f\"Label: {labels_map[label.item()]}\")"
      ]
    },
    {
      "cell_type": "markdown",
      "id": "35b605ca",
      "metadata": {
        "id": "35b605ca"
      },
      "source": [
        "# 2. Convolutional Neural Network 구축해보기\n",
        "\n",
        "- Pytorch에서 모델을 정의하기 위해 nn.Module 클래스를 상속\n",
        "- \\_\\_init\\_\\_ 함수에서 네트워크의 하위 레이어들을 정의\n",
        "- forward 함수에서 어떻게 데이터를 통과시킬 것인지 정의\n"
      ]
    },
    {
      "cell_type": "code",
      "execution_count": null,
      "id": "80b6d61c",
      "metadata": {
        "id": "80b6d61c"
      },
      "outputs": [],
      "source": [
        "from torch import nn\n",
        "from torch.nn.functional import relu, max_pool2d"
      ]
    },
    {
      "cell_type": "code",
      "execution_count": null,
      "id": "2ece8a03",
      "metadata": {
        "id": "2ece8a03"
      },
      "outputs": [],
      "source": [
        "device = \"cuda\" if torch.cuda.is_available() else \"cpu\"\n",
        "print(f\"Using {device} device\")"
      ]
    },
    {
      "cell_type": "code",
      "execution_count": null,
      "id": "214d471b",
      "metadata": {
        "id": "214d471b"
      },
      "outputs": [],
      "source": [
        "def Conv_block(inf, outf):\n",
        "    return nn.Sequential(\n",
        "    nn.Conv2d(in_channels=inf, out_channels=outf, kernel_size=3, stride=1, padding=1),\n",
        "    nn.BatchNorm2d(num_features=outf, momentum=0.1),\n",
        "    nn.ReLU())"
      ]
    },
    {
      "cell_type": "code",
      "execution_count": null,
      "id": "ab3f3dbf",
      "metadata": {
        "id": "ab3f3dbf"
      },
      "outputs": [],
      "source": [
        "class ImageClassifier(nn.Module):\n",
        "    def __init__(self):\n",
        "        super(ImageClassifier, self).__init__()\n",
        "        self.conv_block1 = Conv_block(3, 32)\n",
        "        self.conv_block2 = Conv_block(32, 32)\n",
        "        self.conv_block3 = Conv_block(32, 64)\n",
        "        self.conv_block4 = Conv_block(64, 64)\n",
        "        self.conv_block5 = Conv_block(64, 128)\n",
        "        self.conv_block6 = Conv_block(128, 128)\n",
        "        self.maxpool = nn.MaxPool2d((2,2))\n",
        "        self.flatten = nn.Flatten()\n",
        "        self.linear_relu_stack = nn.Sequential(\n",
        "            nn.Linear(128*8*8, 256),\n",
        "            nn.ReLU(),\n",
        "            nn.Linear(256, 256),\n",
        "            nn.ReLU(),\n",
        "            nn.Linear(256, 10),\n",
        "        )\n",
        "\n",
        "    def forward(self, x):\n",
        "        x = self.conv_block1(x)\n",
        "        x = self.conv_block2(x)\n",
        "        x = self.maxpool(x)\n",
        "        x = self.conv_block3(x)\n",
        "        x = self.conv_block4(x)\n",
        "        x = self.maxpool(x)\n",
        "        x = self.conv_block5(x)\n",
        "        x = self.conv_block6(x)\n",
        "        x = self.flatten(x)\n",
        "        logits = self.linear_relu_stack(x)\n",
        "        return logits"
      ]
    },
    {
      "cell_type": "code",
      "execution_count": null,
      "id": "1dc575bf",
      "metadata": {
        "id": "1dc575bf"
      },
      "outputs": [],
      "source": [
        "model = ImageClassifier().to(device)\n",
        "print(model)"
      ]
    },
    {
      "cell_type": "code",
      "execution_count": null,
      "id": "93c6b7d9",
      "metadata": {
        "id": "93c6b7d9"
      },
      "outputs": [],
      "source": [
        "X = torch.rand(1, 3, 32, 32, device=device)\n",
        "logits = model(X)\n",
        "pred_probab = nn.Softmax(dim=1)(logits)\n",
        "y_pred = pred_probab.argmax(1)\n",
        "print(f\"Predicted class: {y_pred}\")"
      ]
    },
    {
      "cell_type": "code",
      "execution_count": null,
      "id": "701cfb55",
      "metadata": {
        "id": "701cfb55"
      },
      "outputs": [],
      "source": [
        "loss_fn = nn.CrossEntropyLoss()\n",
        "optimizer = torch.optim.SGD(model.parameters(), lr=1e-3)"
      ]
    },
    {
      "cell_type": "code",
      "execution_count": null,
      "id": "7462958e",
      "metadata": {
        "id": "7462958e"
      },
      "outputs": [],
      "source": [
        "def train(dataloader, model, loss_fn, optimizer):\n",
        "    size = len(dataloader.dataset)\n",
        "    num_batches = len(dataloader)\n",
        "    model.train() #모델을 학습모드로,\n",
        "    total_loss, correct = 0, 0\n",
        "    for batch, (X, y) in enumerate(dataloader):\n",
        "        X, y = X.to(device), y.to(device) #샘플과 정답을 GPU로 전달\n",
        "        pred = model(X)\n",
        "        loss = loss_fn(pred, y) # Compute prediction error\n",
        "        total_loss += loss.item()\n",
        "        correct += (pred.argmax(1) == y).type(torch.float).sum().item()\n",
        "\n",
        "        # Backpropagation\n",
        "        optimizer.zero_grad() #optimizer의 gradient 초기화\n",
        "        loss.backward() #loss\n",
        "        optimizer.step()\n",
        "\n",
        "        if batch % 100 == 0:\n",
        "            loss, current = loss.item(), batch * len(X)\n",
        "            print(f\"loss: {loss:>7f}  [{current:>5d}/{size:>5d}]\")\n",
        "    total_loss /= num_batches\n",
        "    correct /= size\n",
        "    return total_loss, correct\n",
        "\n",
        "def test(dataloader, model, loss_fn):\n",
        "    size = len(dataloader.dataset)\n",
        "    num_batches = len(dataloader)\n",
        "    model.eval() #모델을 평가모드로,\n",
        "    total_loss, correct = 0, 0\n",
        "    with torch.no_grad():\n",
        "        for X, y in dataloader:\n",
        "            X, y = X.to(device), y.to(device)\n",
        "            pred = model(X)\n",
        "            total_loss += loss_fn(pred, y).item()\n",
        "            correct += (pred.argmax(1) == y).type(torch.float).sum().item()\n",
        "    total_loss /= num_batches\n",
        "    correct /= size\n",
        "    return total_loss, correct"
      ]
    },
    {
      "cell_type": "code",
      "execution_count": null,
      "id": "9e8ecf4b",
      "metadata": {
        "id": "9e8ecf4b"
      },
      "outputs": [],
      "source": [
        "epochs = 10\n",
        "\n",
        "train_acc_epoch = []\n",
        "val_acc_epoch = []\n",
        "\n",
        "for t in range(epochs):\n",
        "    print(f\"Epoch {t+1}\\n-------------------------------\")\n",
        "    train_loss, train_acc = train(train_dataloader, model, loss_fn, optimizer)\n",
        "    print(f\"Train Error: \\n Accuracy: {(100*train_acc):>0.1f}%, Avg loss: {train_loss:>8f} \\n\")\n",
        "    val_loss, val_acc = test(val_dataloader, model, loss_fn)\n",
        "    print(f\"Validation Error: \\n Accuracy: {(100*val_acc):>0.1f}%, Avg loss: {val_loss:>8f} \\n\")\n",
        "\n",
        "    train_acc_epoch.append(train_acc)\n",
        "    val_acc_epoch.append(val_acc)\n",
        "print(\"Done!\")"
      ]
    },
    {
      "cell_type": "code",
      "execution_count": null,
      "id": "7a4cd438",
      "metadata": {
        "id": "7a4cd438"
      },
      "outputs": [],
      "source": [
        "plt.figure(figsize=(14,4))\n",
        "plt.xlabel(\"Epochs\")\n",
        "plt.xticks(range(1,len(train_acc_epoch)+1))\n",
        "plt.ylabel(\"accuracy\")\n",
        "plt.plot(list(range(1,len(train_acc_epoch)+1)), train_acc_epoch, label='train accuracy')\n",
        "plt.plot(list(range(1,len(val_acc_epoch)+1)), val_acc_epoch, label='val accuracy')\n",
        "plt.legend()\n",
        "plt.show()"
      ]
    },
    {
      "cell_type": "markdown",
      "id": "2575483b",
      "metadata": {
        "id": "2575483b"
      },
      "source": [
        "# 3.사전학습 모델 활용\n",
        "\n",
        "더 효율적으로 이미지 분류 모델을 구축하기 위해 사전학습 모델을 활용할 수 있습니다.\n",
        "\n",
        "- Pretrained model : 이미 대규모 이미지데이터베이스에 학습시킨 모델을 활용합니다.\n",
        "- EarlyStopping : validation loss가 일정 epoch 동안 줄어들지 않으면, 학습을 정지합니다.\n",
        "- TensorBoard : [TensorBoard](https://www.tensorflow.org/tensorboard)에서 읽을 수 있는 형태로 학습 로그를 저장합니다."
      ]
    },
    {
      "cell_type": "markdown",
      "source": [
        "![image.png](data:image/png;base64,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)"
      ],
      "metadata": {
        "id": "cFx2Dralk5Rs"
      },
      "id": "cFx2Dralk5Rs"
    },
    {
      "cell_type": "markdown",
      "source": [
        "전이학습이란?\n",
        "\n",
        "전이학습(Transfer Learning)은 **사전학습된 모델(Pretrained Model)**을 가져와 특정 작업에 맞게 **재학습(Fine-Tuning) 또는 일부 조정(Feature Extraction)**하여 사용하는 기법입니다. 즉, 대량의 데이터로 사전학습된 모델의 지식을 새로운 데이터셋으로 전이(Transfer)하여 활용하는 방법입니다. 다음과 같은 장점을 갖습니다.\n",
        "\n",
        "- 빠른 학습 : 기존 모델이 학습한 일반적인 패턴을 활용하여 적은 데이터로도 빠르게 학습 가능\n",
        "- 적은 데이터로도 좋은 성능 : 수십만 개의 데이터를 필요로 하는 딥러닝 모델을 적은 데이터로도 학습 가능\n",
        "- 계산 비용 절감 : 처음부터 모델을 학습할 필요 없이 기존 모델을 활용하여 연산량을 줄일 수 있음\n",
        "- 과적합(Overfitting) 방지 : 작은 데이터셋에서도 사전학습된 모델이 일반적인 특성을 잘 보존하여 성능이 안정적임\n",
        "\n"
      ],
      "metadata": {
        "id": "Ka4A1-oJk6Bt"
      },
      "id": "Ka4A1-oJk6Bt"
    },
    {
      "cell_type": "markdown",
      "source": [
        "## Pretrained model 사용"
      ],
      "metadata": {
        "id": "nYigP2WJJAww"
      },
      "id": "nYigP2WJJAww"
    },
    {
      "cell_type": "code",
      "source": [
        "from torchvision import transforms\n",
        "\n",
        "# 데이터셋을 불러오고 전처리하기 위한 변환 정의\n",
        "transform = transforms.Compose([\n",
        "    transforms.Resize((224, 224)), # ResNet은 일반적으로 더 큰 이미지 사이즈를 기대함\n",
        "    transforms.ToTensor(),\n",
        "    transforms.Normalize(mean=[0.485, 0.456, 0.406], std=[0.229, 0.224, 0.225]),\n",
        "])\n",
        "\n",
        "train_dataset = datasets.CIFAR10(\n",
        "    root=\"data\",\n",
        "    train=True,\n",
        "    download=True,\n",
        "    transform=transform\n",
        ")\n",
        "train_dataloader = DataLoader(train_dataset, batch_size=256, shuffle=True)\n",
        "val_dataset = datasets.CIFAR10(\n",
        "    root=\"data\",\n",
        "    train=False,\n",
        "    download=True,\n",
        "    transform=transform\n",
        ")\n",
        "val_dataloader = DataLoader(val_dataset, batch_size=256, shuffle=False)\n",
        "\n"
      ],
      "metadata": {
        "id": "t8vxHPt_JyOL"
      },
      "id": "t8vxHPt_JyOL",
      "execution_count": null,
      "outputs": []
    },
    {
      "cell_type": "code",
      "source": [
        "import torchvision.models as models\n",
        "\n",
        "# ResNet18 모델 로드 및 마지막 레이어 수정\n",
        "model = models.resnet18(pretrained=True)\n",
        "model.fc = nn.Linear(model.fc.in_features, 10) # CIFAR10은 10개 클래스를 가짐\n",
        "\n",
        "# GPU 사용 설정\n",
        "device = torch.device(\"cuda\" if torch.cuda.is_available() else \"cpu\")\n",
        "model.to(device)"
      ],
      "metadata": {
        "id": "AE4sQsLlJGKS"
      },
      "id": "AE4sQsLlJGKS",
      "execution_count": null,
      "outputs": []
    },
    {
      "cell_type": "markdown",
      "id": "37532005",
      "metadata": {
        "id": "37532005"
      },
      "source": [
        "## 학습 준비"
      ]
    },
    {
      "cell_type": "code",
      "execution_count": null,
      "id": "7c0c209e",
      "metadata": {
        "id": "7c0c209e"
      },
      "outputs": [],
      "source": [
        "loss_fn = nn.CrossEntropyLoss()\n",
        "optimizer = torch.optim.Adam(model.parameters(), lr=1e-3)"
      ]
    },
    {
      "cell_type": "markdown",
      "id": "052327c0",
      "metadata": {
        "id": "052327c0"
      },
      "source": [
        "## 학습에 얼리스타핑 사용"
      ]
    },
    {
      "cell_type": "code",
      "execution_count": null,
      "id": "724354c0",
      "metadata": {
        "id": "724354c0"
      },
      "outputs": [],
      "source": [
        "import numpy as np\n",
        "\n",
        "class EarlyStopping:\n",
        "    \"\"\"주어진 patience 이후로 validation loss가 개선되지 않으면 학습을 조기 중지\"\"\"\n",
        "    def __init__(self, patience=7, verbose=False, delta=0, path='checkpoint.pt'):\n",
        "        \"\"\"\n",
        "        Args:\n",
        "            patience (int): validation loss가 개선된 후 기다리는 기간\n",
        "                            Default: 7\n",
        "            verbose (bool): True일 경우 각 validation loss의 개선 사항 메세지 출력\n",
        "                            Default: False\n",
        "            delta (float): 개선되었다고 인정되는 monitered quantity의 최소 변화\n",
        "                            Default: 0\n",
        "            path (str): checkpoint저장 경로\n",
        "                            Default: 'checkpoint.pt'\n",
        "        \"\"\"\n",
        "        self.patience = patience\n",
        "        self.verbose = verbose\n",
        "        self.counter = 0\n",
        "        self.best_score = None\n",
        "        self.early_stop = False\n",
        "        self.val_loss_min = np.Inf\n",
        "        self.delta = delta\n",
        "        self.path = path\n",
        "\n",
        "    def __call__(self, val_loss, model):\n",
        "\n",
        "        score = -val_loss\n",
        "\n",
        "        if self.best_score is None:\n",
        "            self.best_score = score\n",
        "            self.save_checkpoint(val_loss, model)\n",
        "        elif score < self.best_score + self.delta:\n",
        "            self.counter += 1\n",
        "            print(f'EarlyStopping counter: {self.counter} out of {self.patience}')\n",
        "            if self.counter >= self.patience:\n",
        "                self.early_stop = True\n",
        "        else:\n",
        "            self.best_score = score\n",
        "            self.save_checkpoint(val_loss, model)\n",
        "            self.counter = 0\n",
        "\n",
        "    def save_checkpoint(self, val_loss, model):\n",
        "        '''validation loss가 감소하면 모델을 저장한다.'''\n",
        "        if self.verbose:\n",
        "            print(f'Validation loss decreased ({self.val_loss_min:.6f} --> {val_loss:.6f}).  Saving model ...')\n",
        "        torch.save(model.state_dict(), self.path)\n",
        "        self.val_loss_min = val_loss"
      ]
    },
    {
      "cell_type": "code",
      "execution_count": null,
      "id": "e13c4211",
      "metadata": {
        "id": "e13c4211"
      },
      "outputs": [],
      "source": [
        "def train(dataloader, model, loss_fn, optimizer):\n",
        "    size = len(dataloader.dataset)\n",
        "    num_batches = len(dataloader)\n",
        "    model.train() #모델을 학습모드로,\n",
        "    total_loss, correct, lrs = 0, 0, []\n",
        "    for batch, (X, y) in enumerate(dataloader):\n",
        "        X, y = X.to(device), y.to(device) #샘플과 정답을 GPU로 전달\n",
        "        pred = model(X)\n",
        "        loss = loss_fn(pred, y) # Compute prediction error\n",
        "        total_loss += loss.item()\n",
        "        correct += (pred.argmax(1) == y).type(torch.float).sum().item()\n",
        "\n",
        "        # Backpropagation\n",
        "        optimizer.zero_grad() #optimizer의 gradient 초기화\n",
        "        loss.backward() #loss\n",
        "        optimizer.step() #update the parameters\n",
        "\n",
        "        if batch % 10 == 0:\n",
        "            loss, current = loss.item(), batch * len(X)\n",
        "            print(f\"loss: {loss:>7f}  [{current:>5d}/{size:>5d}]\")\n",
        "    total_loss /= num_batches\n",
        "    correct /= size\n",
        "    return total_loss, correct, lrs\n",
        "\n",
        "\n",
        "def test(dataloader, model, loss_fn):\n",
        "    size = len(dataloader.dataset)\n",
        "    num_batches = len(dataloader)\n",
        "    model.eval() #모델을 평가모드로,\n",
        "    total_loss, correct = 0, 0\n",
        "    with torch.no_grad():\n",
        "        for X, y in dataloader:\n",
        "            X, y = X.to(device), y.to(device)\n",
        "            pred = model(X)\n",
        "            total_loss += loss_fn(pred, y).item()\n",
        "            correct += (pred.argmax(1) == y).type(torch.float).sum().item()\n",
        "    total_loss /= num_batches\n",
        "    correct /= size\n",
        "    return total_loss, correct"
      ]
    },
    {
      "cell_type": "code",
      "execution_count": null,
      "id": "175149f3",
      "metadata": {
        "id": "175149f3"
      },
      "outputs": [],
      "source": [
        "from torch.utils.tensorboard import SummaryWriter\n",
        "\n",
        "epochs = 10\n",
        "writer = SummaryWriter(comment=\"pytorch-experiment#1\") #tensorboard에 학습로그 기록\n",
        "ckpt_path = os.path.dirname(writer.get_logdir())\n",
        "early_stopping = EarlyStopping(patience = 10, verbose = True, path=os.path.join(ckpt_path ,'resnet-finetuning.pt'))\n",
        "\n",
        "for t in range(epochs):\n",
        "    print(f\"Epoch {t+1}\\n-------------------------------\")\n",
        "    train_loss, train_acc, lrs = train(train_dataloader, model, loss_fn, optimizer)\n",
        "    print(f\"Train Error: \\n Accuracy: {(100*train_acc):>0.1f}%, Avg loss: {train_loss:>8f} \\n\")\n",
        "    val_loss, val_acc = test(val_dataloader, model, loss_fn)\n",
        "    print(f\"Validation Error: \\n Accuracy: {(100*val_acc):>0.1f}%, Avg loss: {val_loss:>8f} \\n\")\n",
        "\n",
        "    writer.add_scalar('Loss/train', train_loss, t)\n",
        "    writer.add_scalar('Loss/val', val_loss, t)\n",
        "    writer.add_scalar('Accuracy/train', train_acc, t)\n",
        "    writer.add_scalar('Accuracy/val', val_acc, t)\n",
        "\n",
        "    early_stopping(val_loss, model)\n",
        "\n",
        "    if early_stopping.early_stop:\n",
        "        print(\"Early stopping\")\n",
        "        break\n",
        "print(\"Done!\")"
      ]
    },
    {
      "cell_type": "markdown",
      "source": [
        "모델 로드"
      ],
      "metadata": {
        "id": "ihA9aH4hh-zI"
      },
      "id": "ihA9aH4hh-zI"
    },
    {
      "cell_type": "code",
      "source": [
        "model = models.resnet18(pretrained=True)\n",
        "model.fc = nn.Linear(model.fc.in_features, 10)\n",
        "model.to(device)\n",
        "\n",
        "model.load_state_dict(torch.load('runs/resnet-finetuning.pt'))\n",
        "model.eval()"
      ],
      "metadata": {
        "id": "-9d8MG6Ah4ts"
      },
      "id": "-9d8MG6Ah4ts",
      "execution_count": null,
      "outputs": []
    },
    {
      "cell_type": "code",
      "execution_count": null,
      "id": "041bf192",
      "metadata": {
        "id": "041bf192"
      },
      "outputs": [],
      "source": []
    },
    {
      "cell_type": "markdown",
      "source": [
        "## 텐서보드를 통한 학습 로그데이터 관리"
      ],
      "metadata": {
        "id": "oNefKchqPrae"
      },
      "id": "oNefKchqPrae"
    },
    {
      "cell_type": "code",
      "source": [
        "# Load the TensorBoard notebook extension\n",
        "%load_ext tensorboard"
      ],
      "metadata": {
        "id": "PZak1ZjOhfSm"
      },
      "id": "PZak1ZjOhfSm",
      "execution_count": null,
      "outputs": []
    },
    {
      "cell_type": "code",
      "source": [
        "%tensorboard --logdir /content/"
      ],
      "metadata": {
        "id": "H5SDlifLhg4u"
      },
      "id": "H5SDlifLhg4u",
      "execution_count": null,
      "outputs": []
    },
    {
      "cell_type": "code",
      "execution_count": null,
      "id": "70059b77",
      "metadata": {
        "id": "70059b77"
      },
      "outputs": [],
      "source": []
    },
    {
      "cell_type": "code",
      "execution_count": null,
      "id": "1eccbb11",
      "metadata": {
        "id": "1eccbb11"
      },
      "outputs": [],
      "source": []
    }
  ],
  "metadata": {
    "kernelspec": {
      "display_name": "Python 3",
      "name": "python3"
    },
    "language_info": {
      "codemirror_mode": {
        "name": "ipython",
        "version": 3
      },
      "file_extension": ".py",
      "mimetype": "text/x-python",
      "name": "python",
      "nbconvert_exporter": "python",
      "pygments_lexer": "ipython3",
      "version": "3.7.11"
    },
    "colab": {
      "provenance": [],
      "machine_shape": "hm",
      "gpuType": "T4",
      "include_colab_link": true
    },
    "accelerator": "GPU"
  },
  "nbformat": 4,
  "nbformat_minor": 5
}