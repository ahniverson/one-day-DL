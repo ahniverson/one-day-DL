{
  "cells": [
    {
      "cell_type": "markdown",
      "metadata": {
        "id": "view-in-github",
        "colab_type": "text"
      },
      "source": [
        "<a href=\"https://colab.research.google.com/github/hukim1112/one-day-DL/blob/main/(pytorch)cifar_classification.ipynb\" target=\"_parent\"><img src=\"https://colab.research.google.com/assets/colab-badge.svg\" alt=\"Open In Colab\"/></a>"
      ]
    },
    {
      "cell_type": "code",
      "execution_count": null,
      "id": "87fbca16",
      "metadata": {
        "id": "87fbca16"
      },
      "outputs": [],
      "source": [
        "import os, sys\n",
        "import torch\n",
        "from torch.utils.data import Dataset\n",
        "from torchvision import datasets\n",
        "from torchvision.transforms import ToTensor\n",
        "import matplotlib.pyplot as plt"
      ]
    },
    {
      "cell_type": "markdown",
      "id": "d66a8d0b",
      "metadata": {
        "id": "d66a8d0b"
      },
      "source": [
        "# 1. Load cifar10 dataset\n",
        "\n",
        "pytorch의 데이터셋 객체는 \\_\\_getitem\\_\\_ 메서드를 갖으며, 내부적으로 인덱스로 데이터와 레이블을 리턴한다.\n",
        "\n",
        "pytorch에서는 tensorflow와 유사하게 벤치마크용 데이터셋들의 클래스를 구현해두어서 아래와 같이 쉽게 가져와 사용할 수 있다.\n",
        "\n",
        "만약 내가 소유한 데이터셋를 가져오고 싶을 때는 파이토치 데이터셋 클래스를 상속 받아 내 데이터에 맞게 구현해주면 된다. [Custom 데이터셋 클래스 구현](https://pytorch.org/tutorials/beginner/basics/data_tutorial.html#creating-a-custom-dataset-for-your-files)"
      ]
    },
    {
      "cell_type": "code",
      "execution_count": null,
      "id": "14800be6",
      "metadata": {
        "id": "14800be6"
      },
      "outputs": [],
      "source": [
        "training_data = datasets.CIFAR10(\n",
        "    root=\"data\",\n",
        "    train=True,\n",
        "    download=True,\n",
        "    transform=ToTensor()\n",
        ")\n",
        "\n",
        "val_data = datasets.CIFAR10(\n",
        "    root=\"data\",\n",
        "    train=False,\n",
        "    download=True,\n",
        "    transform=ToTensor()\n",
        ")"
      ]
    },
    {
      "cell_type": "code",
      "execution_count": null,
      "id": "3beb7a16",
      "metadata": {
        "id": "3beb7a16"
      },
      "outputs": [],
      "source": [
        "labels_map = {\n",
        "    0: \"airplane\",\n",
        "    1: \"automobile\",\n",
        "    2: \"bird\",\n",
        "    3: \"cat\",\n",
        "    4: \"deer\",\n",
        "    5: \"dog\",\n",
        "    6: \"frog\",\n",
        "    7: \"horse\",\n",
        "    8: \"ship\",\n",
        "    9: \"truck\",\n",
        "}\n",
        "figure = plt.figure(figsize=(8, 8))\n",
        "cols, rows = 3, 3\n",
        "for i in range(1, cols * rows + 1):\n",
        "    sample_idx = torch.randint(len(training_data), size=(1,)).item()\n",
        "    img, label = training_data[sample_idx]\n",
        "    figure.add_subplot(rows, cols, i)\n",
        "    plt.title(labels_map[label])\n",
        "    plt.axis(\"off\")\n",
        "    plt.imshow(img.permute([1,2,0])) #[C,H,W] => [H,W,C], axis change\n",
        "plt.show()"
      ]
    },
    {
      "cell_type": "markdown",
      "source": [
        "데이터셋 객체는 한 번에 하나의 데이터와 정답을 가져오지만, 학습을 위해 미니배치(minibatch)로 데이터를 가져올 필요가 있다. 또한 과적합을 줄이기 위해 매 epoch마다 데이터의 순서를 섞어(shuffle)주어야 한다.\n",
        "\n",
        "이를 위해 파이토치는 [DataLoader](https://pytorch.org/tutorials/beginner/basics/data_tutorial.html#preparing-your-data-for-training-with-dataloaders)를 제공한다."
      ],
      "metadata": {
        "id": "MaZ4zWXMgpbF"
      },
      "id": "MaZ4zWXMgpbF"
    },
    {
      "cell_type": "code",
      "execution_count": null,
      "id": "5079a513",
      "metadata": {
        "id": "5079a513"
      },
      "outputs": [],
      "source": [
        "from torch.utils.data import DataLoader\n",
        "\n",
        "train_dataloader = DataLoader(training_data, batch_size=64, shuffle=True)\n",
        "val_dataloader = DataLoader(val_data, batch_size=64, shuffle=True)"
      ]
    },
    {
      "cell_type": "code",
      "execution_count": null,
      "id": "785ed8c6",
      "metadata": {
        "id": "785ed8c6"
      },
      "outputs": [],
      "source": [
        "# 이미지와 정답(label)을 표시합니다.\n",
        "train_features, train_labels = next(iter(train_dataloader))\n",
        "print(f\"Feature batch shape: {train_features.size()}\")\n",
        "print(f\"Labels batch shape: {train_labels.size()}\")\n",
        "img = train_features[0].squeeze()\n",
        "label = train_labels[0]\n",
        "plt.imshow(img.permute([1,2,0]), cmap=\"gray\")\n",
        "plt.show()\n",
        "print(f\"Label: {labels_map[label.item()]}\")"
      ]
    },
    {
      "cell_type": "markdown",
      "id": "35b605ca",
      "metadata": {
        "id": "35b605ca"
      },
      "source": [
        "# 2. Build your Convolutional Neural Network!\n",
        "\n",
        "- Pytorch에서 모델을 정의하기 위해 nn.Module 클래스를 상속\n",
        "- \\_\\_init\\_\\_ 함수에서 네트워크의 하위 레이어들을 정의\n",
        "- forward 함수에서 어떻게 데이터를 통과시킬 것인지 정의\n"
      ]
    },
    {
      "cell_type": "code",
      "execution_count": null,
      "id": "80b6d61c",
      "metadata": {
        "id": "80b6d61c"
      },
      "outputs": [],
      "source": [
        "from torch import nn\n",
        "from torch.nn.functional import relu, max_pool2d"
      ]
    },
    {
      "cell_type": "code",
      "execution_count": null,
      "id": "2ece8a03",
      "metadata": {
        "id": "2ece8a03"
      },
      "outputs": [],
      "source": [
        "device = \"cuda\" if torch.cuda.is_available() else \"cpu\"\n",
        "print(f\"Using {device} device\")"
      ]
    },
    {
      "cell_type": "code",
      "execution_count": null,
      "id": "214d471b",
      "metadata": {
        "id": "214d471b"
      },
      "outputs": [],
      "source": [
        "def Conv_block(inf, outf):\n",
        "    return nn.Sequential(\n",
        "    nn.Conv2d(in_channels=inf, out_channels=outf, kernel_size=3, stride=1, padding=1),\n",
        "    nn.BatchNorm2d(num_features=outf, momentum=0.1),\n",
        "    nn.ReLU())"
      ]
    },
    {
      "cell_type": "code",
      "execution_count": null,
      "id": "ab3f3dbf",
      "metadata": {
        "id": "ab3f3dbf"
      },
      "outputs": [],
      "source": [
        "class ImageClassifier(nn.Module):\n",
        "    def __init__(self):\n",
        "        super(ImageClassifier, self).__init__()\n",
        "        self.conv_block1 = Conv_block(3, 32)\n",
        "        self.conv_block2 = Conv_block(32, 32)\n",
        "        self.conv_block3 = Conv_block(32, 64)\n",
        "        self.conv_block4 = Conv_block(64, 64)\n",
        "        self.conv_block5 = Conv_block(64, 128)\n",
        "        self.conv_block6 = Conv_block(128, 128)\n",
        "        self.maxpool = nn.MaxPool2d((2,2))\n",
        "        self.flatten = nn.Flatten()\n",
        "        self.linear_relu_stack = nn.Sequential(\n",
        "            nn.Linear(128*8*8, 256),\n",
        "            nn.ReLU(),\n",
        "            nn.Linear(256, 256),\n",
        "            nn.ReLU(),\n",
        "            nn.Linear(256, 10),\n",
        "        )\n",
        "\n",
        "    def forward(self, x):\n",
        "        x = self.conv_block1(x)\n",
        "        x = self.conv_block2(x)\n",
        "        x = self.maxpool(x)\n",
        "        x = self.conv_block3(x)\n",
        "        x = self.conv_block4(x)\n",
        "        x = self.maxpool(x)\n",
        "        x = self.conv_block5(x)\n",
        "        x = self.conv_block6(x)\n",
        "        x = self.flatten(x)\n",
        "        logits = self.linear_relu_stack(x)\n",
        "        return logits"
      ]
    },
    {
      "cell_type": "code",
      "execution_count": null,
      "id": "1dc575bf",
      "metadata": {
        "id": "1dc575bf"
      },
      "outputs": [],
      "source": [
        "model = ImageClassifier().to(device)\n",
        "print(model)"
      ]
    },
    {
      "cell_type": "code",
      "execution_count": null,
      "id": "93c6b7d9",
      "metadata": {
        "id": "93c6b7d9"
      },
      "outputs": [],
      "source": [
        "X = torch.rand(1, 3, 32, 32, device=device)\n",
        "logits = model(X)\n",
        "pred_probab = nn.Softmax(dim=1)(logits)\n",
        "y_pred = pred_probab.argmax(1)\n",
        "print(f\"Predicted class: {y_pred}\")"
      ]
    },
    {
      "cell_type": "code",
      "execution_count": null,
      "id": "701cfb55",
      "metadata": {
        "id": "701cfb55"
      },
      "outputs": [],
      "source": [
        "loss_fn = nn.CrossEntropyLoss()\n",
        "optimizer = torch.optim.SGD(model.parameters(), lr=1e-3)"
      ]
    },
    {
      "cell_type": "code",
      "execution_count": null,
      "id": "7462958e",
      "metadata": {
        "id": "7462958e"
      },
      "outputs": [],
      "source": [
        "def train(dataloader, model, loss_fn, optimizer):\n",
        "    size = len(dataloader.dataset)\n",
        "    num_batches = len(dataloader)\n",
        "    model.train() #모델을 학습모드로,\n",
        "    total_loss, correct = 0, 0\n",
        "    for batch, (X, y) in enumerate(dataloader):\n",
        "        X, y = X.to(device), y.to(device) #샘플과 정답을 GPU로 전달\n",
        "        pred = model(X)\n",
        "        loss = loss_fn(pred, y) # Compute prediction error\n",
        "        total_loss += loss.item()\n",
        "        correct += (pred.argmax(1) == y).type(torch.float).sum().item()\n",
        "\n",
        "        # Backpropagation\n",
        "        optimizer.zero_grad() #optimizer의 gradient 초기화\n",
        "        loss.backward() #loss\n",
        "        optimizer.step()\n",
        "\n",
        "        if batch % 100 == 0:\n",
        "            loss, current = loss.item(), batch * len(X)\n",
        "            print(f\"loss: {loss:>7f}  [{current:>5d}/{size:>5d}]\")\n",
        "    total_loss /= num_batches\n",
        "    correct /= size\n",
        "    return total_loss, correct\n",
        "\n",
        "def test(dataloader, model, loss_fn):\n",
        "    size = len(dataloader.dataset)\n",
        "    num_batches = len(dataloader)\n",
        "    model.eval() #모델을 평가모드로,\n",
        "    total_loss, correct = 0, 0\n",
        "    with torch.no_grad():\n",
        "        for X, y in dataloader:\n",
        "            X, y = X.to(device), y.to(device)\n",
        "            pred = model(X)\n",
        "            total_loss += loss_fn(pred, y).item()\n",
        "            correct += (pred.argmax(1) == y).type(torch.float).sum().item()\n",
        "    total_loss /= num_batches\n",
        "    correct /= size\n",
        "    return total_loss, correct"
      ]
    },
    {
      "cell_type": "code",
      "execution_count": null,
      "id": "9e8ecf4b",
      "metadata": {
        "id": "9e8ecf4b"
      },
      "outputs": [],
      "source": [
        "epochs = 40\n",
        "\n",
        "train_losses = []\n",
        "val_losses = []\n",
        "\n",
        "for t in range(epochs):\n",
        "    print(f\"Epoch {t+1}\\n-------------------------------\")\n",
        "    train_loss, train_acc = train(train_dataloader, model, loss_fn, optimizer)\n",
        "    print(f\"Train Error: \\n Accuracy: {(100*train_acc):>0.1f}%, Avg loss: {train_loss:>8f} \\n\")\n",
        "    val_loss, val_acc = test(val_dataloader, model, loss_fn)\n",
        "    print(f\"Validation Error: \\n Accuracy: {(100*val_acc):>0.1f}%, Avg loss: {val_loss:>8f} \\n\")\n",
        "\n",
        "    train_losses.append(train_loss)\n",
        "    val_losses.append(val_loss)\n",
        "print(\"Done!\")"
      ]
    },
    {
      "cell_type": "code",
      "execution_count": null,
      "id": "7a4cd438",
      "metadata": {
        "id": "7a4cd438"
      },
      "outputs": [],
      "source": [
        "plt.figure(figsize=(14,4))\n",
        "plt.xlabel(\"Epochs\")\n",
        "plt.xticks(range(1,len(train_losses)+1))\n",
        "plt.ylabel(\"losses\")\n",
        "plt.plot(list(range(1,len(train_losses)+1)), train_losses, label='train loss')\n",
        "plt.plot(list(range(1,len(val_losses)+1)), val_losses, label='val loss')\n",
        "plt.legend()\n",
        "plt.show()"
      ]
    },
    {
      "cell_type": "markdown",
      "id": "2575483b",
      "metadata": {
        "id": "2575483b"
      },
      "source": [
        "# 3.Train your model smarter\n",
        "\n",
        "모델 학습 시 조금 더 똑똑하게 학습하기 위한 유용한 도구들이 존재합니다.\n",
        "- Pretrained model : 대규모 이미지데이터베이스에 학습시킨 모델을 활용합니다.\n",
        "- Learning rate scheduling : 학습 중 조건에 따라 학습률을 조정합니다.\n",
        "- EarlyStopping : validation loss가 일정 이상 줄어들지 않으면, 학습을 정지합니다.\n",
        "- TensorBoard : [TensorBoard](https://www.tensorflow.org/tensorboard)에서 읽을 수 있는 형태로 학습 로그를 저장합니다."
      ]
    },
    {
      "cell_type": "markdown",
      "source": [
        "## 학습에 Pretrained model 사용"
      ],
      "metadata": {
        "id": "nYigP2WJJAww"
      },
      "id": "nYigP2WJJAww"
    },
    {
      "cell_type": "code",
      "source": [
        "from torchvision import transforms\n",
        "\n",
        "# 데이터셋을 불러오고 전처리하기 위한 변환 정의\n",
        "transform = transforms.Compose([\n",
        "    transforms.Resize((224, 224)), # ResNet은 일반적으로 더 큰 이미지 사이즈를 기대함\n",
        "    transforms.ToTensor(),\n",
        "    transforms.Normalize(mean=[0.485, 0.456, 0.406], std=[0.229, 0.224, 0.225]),\n",
        "])\n",
        "\n",
        "train_dataset = datasets.CIFAR10(\n",
        "    root=\"data\",\n",
        "    train=True,\n",
        "    download=True,\n",
        "    transform=transform\n",
        ")\n",
        "train_dataloader = DataLoader(train_dataset, batch_size=64, shuffle=True)\n",
        "val_dataset = datasets.CIFAR10(\n",
        "    root=\"data\",\n",
        "    train=False,\n",
        "    download=True,\n",
        "    transform=transform\n",
        ")\n",
        "val_dataloader = DataLoader(val_dataset, batch_size=64, shuffle=False)\n",
        "\n"
      ],
      "metadata": {
        "id": "t8vxHPt_JyOL"
      },
      "id": "t8vxHPt_JyOL",
      "execution_count": null,
      "outputs": []
    },
    {
      "cell_type": "code",
      "source": [
        "import torchvision.models as models\n",
        "\n",
        "# ResNet18 모델 로드 및 마지막 레이어 수정\n",
        "model = models.resnet18(pretrained=True)\n",
        "model.fc = nn.Linear(model.fc.in_features, 10) # CIFAR10은 10개 클래스를 가짐\n",
        "\n",
        "# GPU 사용 설정\n",
        "device = torch.device(\"cuda\" if torch.cuda.is_available() else \"cpu\")\n",
        "model.to(device)"
      ],
      "metadata": {
        "id": "AE4sQsLlJGKS"
      },
      "id": "AE4sQsLlJGKS",
      "execution_count": null,
      "outputs": []
    },
    {
      "cell_type": "markdown",
      "id": "37532005",
      "metadata": {
        "id": "37532005"
      },
      "source": [
        "## 학습에 스케쥴러 사용"
      ]
    },
    {
      "cell_type": "code",
      "execution_count": null,
      "id": "7c0c209e",
      "metadata": {
        "id": "7c0c209e"
      },
      "outputs": [],
      "source": [
        "from torch.optim.lr_scheduler import ReduceLROnPlateau, CosineAnnealingWarmRestarts\n",
        "loss_fn = nn.CrossEntropyLoss()"
      ]
    },
    {
      "cell_type": "markdown",
      "id": "777bd311",
      "metadata": {
        "id": "777bd311"
      },
      "source": [
        "학습률 스케쥴러 중 하나인 CosineAnnealingWarmRestarts를 사용하면, batch를 학습함에 따라 다음과 같이 학습률이 변화된다."
      ]
    },
    {
      "cell_type": "code",
      "execution_count": null,
      "id": "8fb3c8f5",
      "metadata": {
        "id": "8fb3c8f5"
      },
      "outputs": [],
      "source": [
        "optimizer = torch.optim.Adam(model.parameters(), lr=1e-3)\n",
        "scheduler = CosineAnnealingWarmRestarts(optimizer, T_0=1000, T_mult=1, eta_min=0.0)\n",
        "\n",
        "lrs = []\n",
        "opt_lrs = []\n",
        "for i in range(10000):\n",
        "    scheduler.step()\n",
        "    opt_lrs.append(optimizer.param_groups[0][\"lr\"])\n",
        "plt.xlabel(\"iteration(batch)\")\n",
        "plt.ylabel(\"learning rate\")\n",
        "plt.plot(list(range(10000)), opt_lrs)"
      ]
    },
    {
      "cell_type": "code",
      "execution_count": null,
      "id": "a18a2c29",
      "metadata": {
        "id": "a18a2c29"
      },
      "outputs": [],
      "source": [
        "loss_fn = nn.CrossEntropyLoss()\n",
        "optimizer = torch.optim.Adam(model.parameters(), lr=1e-3)\n",
        "scheduler = CosineAnnealingWarmRestarts(optimizer, T_0=1000, T_mult=1, eta_min=0.0)"
      ]
    },
    {
      "cell_type": "markdown",
      "id": "052327c0",
      "metadata": {
        "id": "052327c0"
      },
      "source": [
        "## 학습에 얼리스타핑 사용"
      ]
    },
    {
      "cell_type": "code",
      "execution_count": null,
      "id": "724354c0",
      "metadata": {
        "id": "724354c0"
      },
      "outputs": [],
      "source": [
        "import numpy as np\n",
        "\n",
        "class EarlyStopping:\n",
        "    \"\"\"주어진 patience 이후로 validation loss가 개선되지 않으면 학습을 조기 중지\"\"\"\n",
        "    def __init__(self, patience=7, verbose=False, delta=0, path='checkpoint.pt'):\n",
        "        \"\"\"\n",
        "        Args:\n",
        "            patience (int): validation loss가 개선된 후 기다리는 기간\n",
        "                            Default: 7\n",
        "            verbose (bool): True일 경우 각 validation loss의 개선 사항 메세지 출력\n",
        "                            Default: False\n",
        "            delta (float): 개선되었다고 인정되는 monitered quantity의 최소 변화\n",
        "                            Default: 0\n",
        "            path (str): checkpoint저장 경로\n",
        "                            Default: 'checkpoint.pt'\n",
        "        \"\"\"\n",
        "        self.patience = patience\n",
        "        self.verbose = verbose\n",
        "        self.counter = 0\n",
        "        self.best_score = None\n",
        "        self.early_stop = False\n",
        "        self.val_loss_min = np.Inf\n",
        "        self.delta = delta\n",
        "        self.path = path\n",
        "\n",
        "    def __call__(self, val_loss, model):\n",
        "\n",
        "        score = -val_loss\n",
        "\n",
        "        if self.best_score is None:\n",
        "            self.best_score = score\n",
        "            self.save_checkpoint(val_loss, model)\n",
        "        elif score < self.best_score + self.delta:\n",
        "            self.counter += 1\n",
        "            print(f'EarlyStopping counter: {self.counter} out of {self.patience}')\n",
        "            if self.counter >= self.patience:\n",
        "                self.early_stop = True\n",
        "        else:\n",
        "            self.best_score = score\n",
        "            self.save_checkpoint(val_loss, model)\n",
        "            self.counter = 0\n",
        "\n",
        "    def save_checkpoint(self, val_loss, model):\n",
        "        '''validation loss가 감소하면 모델을 저장한다.'''\n",
        "        if self.verbose:\n",
        "            print(f'Validation loss decreased ({self.val_loss_min:.6f} --> {val_loss:.6f}).  Saving model ...')\n",
        "        torch.save(model.state_dict(), self.path)\n",
        "        self.val_loss_min = val_loss"
      ]
    },
    {
      "cell_type": "code",
      "execution_count": null,
      "id": "e13c4211",
      "metadata": {
        "id": "e13c4211"
      },
      "outputs": [],
      "source": [
        "def train(dataloader, model, loss_fn, optimizer, scheduler):\n",
        "    size = len(dataloader.dataset)\n",
        "    num_batches = len(dataloader)\n",
        "    model.train() #모델을 학습모드로,\n",
        "    total_loss, correct, lrs = 0, 0, []\n",
        "    for batch, (X, y) in enumerate(dataloader):\n",
        "        X, y = X.to(device), y.to(device) #샘플과 정답을 GPU로 전달\n",
        "        pred = model(X)\n",
        "        loss = loss_fn(pred, y) # Compute prediction error\n",
        "        total_loss += loss.item()\n",
        "        correct += (pred.argmax(1) == y).type(torch.float).sum().item()\n",
        "\n",
        "        # Backpropagation\n",
        "        optimizer.zero_grad() #optimizer의 gradient 초기화\n",
        "        loss.backward() #loss\n",
        "        optimizer.step() #update the parameters\n",
        "        lrs.append(optimizer.param_groups[0]['lr']) #append the current learning rate\n",
        "        scheduler.step() #update the learning rate\n",
        "\n",
        "        if batch % 100 == 0:\n",
        "            loss, current = loss.item(), batch * len(X)\n",
        "            print(f\"loss: {loss:>7f}  [{current:>5d}/{size:>5d}]\")\n",
        "    total_loss /= num_batches\n",
        "    correct /= size\n",
        "    return total_loss, correct, lrs\n",
        "\n",
        "\n",
        "def test(dataloader, model, loss_fn):\n",
        "    size = len(dataloader.dataset)\n",
        "    num_batches = len(dataloader)\n",
        "    model.eval() #모델을 평가모드로,\n",
        "    total_loss, correct = 0, 0\n",
        "    with torch.no_grad():\n",
        "        for X, y in dataloader:\n",
        "            X, y = X.to(device), y.to(device)\n",
        "            pred = model(X)\n",
        "            total_loss += loss_fn(pred, y).item()\n",
        "            correct += (pred.argmax(1) == y).type(torch.float).sum().item()\n",
        "    total_loss /= num_batches\n",
        "    correct /= size\n",
        "    return total_loss, correct"
      ]
    },
    {
      "cell_type": "code",
      "execution_count": null,
      "id": "175149f3",
      "metadata": {
        "id": "175149f3"
      },
      "outputs": [],
      "source": [
        "from torch.utils.tensorboard import SummaryWriter\n",
        "\n",
        "epochs = 200\n",
        "writer = SummaryWriter(comment=\"pytorch-experiment#1\") #tensorboard에 학습로그 기록\n",
        "ckpt_path = os.path.dirname(writer.get_logdir())\n",
        "early_stopping = EarlyStopping(patience = 10, verbose = True, path=os.path.join(ckpt_path ,'MyCNN.pt'))\n",
        "\n",
        "for t in range(epochs):\n",
        "    print(f\"Epoch {t+1}\\n-------------------------------\")\n",
        "    train_loss, train_acc, lrs = train(train_dataloader, model, loss_fn,\n",
        "                                       optimizer, scheduler)\n",
        "    print(f\"Train Error: \\n Accuracy: {(100*train_acc):>0.1f}%, Avg loss: {train_loss:>8f} \\n\")\n",
        "    val_loss, val_acc = test(val_dataloader, model, loss_fn)\n",
        "    print(f\"Validation Error: \\n Accuracy: {(100*val_acc):>0.1f}%, Avg loss: {val_loss:>8f} \\n\")\n",
        "\n",
        "    writer.add_scalar('Loss/train', train_loss, t)\n",
        "    writer.add_scalar('Loss/val', val_loss, t)\n",
        "    writer.add_scalar('Accuracy/train', train_acc, t)\n",
        "    writer.add_scalar('Accuracy/val', val_acc, t)\n",
        "    for _iter, lr in enumerate(lrs):\n",
        "        writer.add_scalar('learning_rate', lr, t*len(train_dataloader)+_iter+1)\n",
        "\n",
        "    early_stopping(val_loss, model)\n",
        "\n",
        "    if early_stopping.early_stop:\n",
        "        print(\"Early stopping\")\n",
        "        break\n",
        "\n",
        "\n",
        "print(\"Done!\")"
      ]
    },
    {
      "cell_type": "markdown",
      "source": [
        "모델 세이브&로드"
      ],
      "metadata": {
        "id": "ihA9aH4hh-zI"
      },
      "id": "ihA9aH4hh-zI"
    },
    {
      "cell_type": "code",
      "source": [
        "new_model = ImageClassifier().to(device)\n",
        "new_model.load_state_dict(torch.load('MyCNN.pt'))\n",
        "new_model.eval()"
      ],
      "metadata": {
        "id": "-9d8MG6Ah4ts"
      },
      "id": "-9d8MG6Ah4ts",
      "execution_count": null,
      "outputs": []
    },
    {
      "cell_type": "code",
      "execution_count": null,
      "id": "041bf192",
      "metadata": {
        "id": "041bf192"
      },
      "outputs": [],
      "source": []
    },
    {
      "cell_type": "code",
      "source": [
        "# Load the TensorBoard notebook extension\n",
        "%load_ext tensorboard"
      ],
      "metadata": {
        "id": "PZak1ZjOhfSm"
      },
      "id": "PZak1ZjOhfSm",
      "execution_count": null,
      "outputs": []
    },
    {
      "cell_type": "code",
      "source": [
        "%tensorboard --logdir /content/"
      ],
      "metadata": {
        "id": "H5SDlifLhg4u"
      },
      "id": "H5SDlifLhg4u",
      "execution_count": null,
      "outputs": []
    },
    {
      "cell_type": "code",
      "execution_count": null,
      "id": "70059b77",
      "metadata": {
        "id": "70059b77"
      },
      "outputs": [],
      "source": []
    },
    {
      "cell_type": "code",
      "execution_count": null,
      "id": "1eccbb11",
      "metadata": {
        "id": "1eccbb11"
      },
      "outputs": [],
      "source": []
    }
  ],
  "metadata": {
    "kernelspec": {
      "display_name": "Python 3",
      "name": "python3"
    },
    "language_info": {
      "codemirror_mode": {
        "name": "ipython",
        "version": 3
      },
      "file_extension": ".py",
      "mimetype": "text/x-python",
      "name": "python",
      "nbconvert_exporter": "python",
      "pygments_lexer": "ipython3",
      "version": "3.7.11"
    },
    "colab": {
      "provenance": [],
      "toc_visible": true,
      "machine_shape": "hm",
      "gpuType": "A100",
      "include_colab_link": true
    },
    "accelerator": "GPU"
  },
  "nbformat": 4,
  "nbformat_minor": 5
}